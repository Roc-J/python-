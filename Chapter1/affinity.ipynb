{
 "cells": [
  {
   "cell_type": "code",
   "execution_count": 1,
   "metadata": {},
   "outputs": [
    {
     "name": "stdout",
     "output_type": "stream",
     "text": [
      "This dataset has 100 samples and 5 features\n"
     ]
    }
   ],
   "source": [
    "import numpy as np\n",
    "dataset_filename = 'affinity_dataset.txt'\n",
    "X = np.loadtxt(dataset_filename)\n",
    "n_samples, n_features = X.shape\n",
    "print(\"This dataset has {0} samples and {1} features\".format(n_samples, n_features))"
   ]
  },
  {
   "cell_type": "code",
   "execution_count": 2,
   "metadata": {},
   "outputs": [
    {
     "name": "stdout",
     "output_type": "stream",
     "text": [
      "[[ 0.  0.  1.  1.  1.]\n",
      " [ 1.  1.  0.  1.  0.]\n",
      " [ 1.  0.  1.  1.  0.]\n",
      " [ 0.  0.  1.  1.  1.]\n",
      " [ 0.  1.  0.  0.  1.]]\n"
     ]
    }
   ],
   "source": [
    "print(X[:5])"
   ]
  },
  {
   "cell_type": "markdown",
   "metadata": {},
   "source": [
    "### 每一行代表一条交易数据，包含商品  \n",
    "五种商品分别是面包、牛奶、奶酪、苹果和香蕉"
   ]
  },
  {
   "cell_type": "code",
   "execution_count": 3,
   "metadata": {},
   "outputs": [],
   "source": [
    "features = [\"bread\", \"milk\", \"cheese\", \"apples\", \"bananas\"]"
   ]
  },
  {
   "cell_type": "markdown",
   "metadata": {},
   "source": [
    "如果顾客购买了苹果，他们也会购买香蕉"
   ]
  },
  {
   "cell_type": "code",
   "execution_count": 4,
   "metadata": {},
   "outputs": [
    {
     "name": "stdout",
     "output_type": "stream",
     "text": [
      "36 people bought Apples .\n"
     ]
    }
   ],
   "source": [
    "# 先计算有多少顾客购买了苹果\n",
    "num_apples_purchases = 0\n",
    "for sample in X:\n",
    "    if sample[3] == 1:\n",
    "        num_apples_purchases += 1\n",
    "print(\"{0} people bought Apples .\".format(num_apples_purchases))"
   ]
  },
  {
   "cell_type": "markdown",
   "metadata": {},
   "source": [
    "在36个cases中，来进行查看有多少人购买了苹果，他们也会购买香蕉；或者没有购买香蕉"
   ]
  },
  {
   "cell_type": "code",
   "execution_count": 5,
   "metadata": {},
   "outputs": [
    {
     "name": "stdout",
     "output_type": "stream",
     "text": [
      "21 cases of the rule being valid were discovered.\n",
      "15 cases of the rule being invalid were discovered.\n"
     ]
    }
   ],
   "source": [
    "rule_valid = 0\n",
    "rule_invalid = 0\n",
    "for sample in X:\n",
    "    if sample[3] == 1:\n",
    "        if sample[4] == 1:\n",
    "            rule_valid += 1\n",
    "        else:\n",
    "            rule_invalid += 1\n",
    "print(\"{0} cases of the rule being valid were discovered.\".format(rule_valid))\n",
    "print(\"{0} cases of the rule being invalid were discovered.\".format(rule_invalid))"
   ]
  },
  {
   "cell_type": "code",
   "execution_count": 10,
   "metadata": {},
   "outputs": [
    {
     "name": "stdout",
     "output_type": "stream",
     "text": [
      "0.583333333333\n",
      "The support is 21 and the confidence is 0.583\n",
      "As a percentage, that is 58.3%.\n"
     ]
    }
   ],
   "source": [
    "# now we have all information needed to compute Support and Confidence\n",
    "support = rule_valid\n",
    "confidence = (1.0*rule_valid/num_apples_purchases)\n",
    "print(\"The support is {0} and the confidence is {1:.3f}\".format(support, confidence))\n",
    "print(\"As a percentage, that is {0:.1f}%.\".format(100*confidence))"
   ]
  },
  {
   "cell_type": "code",
   "execution_count": 12,
   "metadata": {},
   "outputs": [],
   "source": [
    "from collections import defaultdict\n",
    "valid_rules = defaultdict(int)\n",
    "invalid_rules = defaultdict(int)\n",
    "num_occurences = defaultdict(int)\n",
    "\n",
    "for sample in X:\n",
    "    for premise in range(n_features):\n",
    "        if sample[premise] == 0:\n",
    "            continue\n",
    "        num_occurences[premise] += 1\n",
    "        for conclusion in range(n_features):\n",
    "            if premise == conclusion:\n",
    "                continue\n",
    "            if sample[conclusion] == 1:\n",
    "                valid_rules[(premise, conclusion)] += 1\n",
    "            else:\n",
    "                invalid_rules[(premise, conclusion)] += 1\n",
    "support = valid_rules\n",
    "confidence = defaultdict(float)\n",
    "for premise, conclusion in valid_rules.keys():\n",
    "    confidence[(premise, conclusion)] = 1.0*valid_rules[(premise, conclusion)]/num_occurences[premise]"
   ]
  },
  {
   "cell_type": "code",
   "execution_count": 13,
   "metadata": {},
   "outputs": [
    {
     "name": "stdout",
     "output_type": "stream",
     "text": [
      "defaultdict(<type 'float'>, {(0, 1): 0.5185185185185185, (1, 2): 0.15217391304347827, (3, 2): 0.6944444444444444, (1, 3): 0.1956521739130435, (0, 3): 0.18518518518518517, (3, 0): 0.1388888888888889, (3, 4): 0.5833333333333334, (3, 1): 0.25, (1, 4): 0.41304347826086957, (2, 4): 0.6585365853658537, (2, 0): 0.0975609756097561, (2, 3): 0.6097560975609756, (2, 1): 0.17073170731707318, (4, 3): 0.3559322033898305, (0, 4): 0.6296296296296297, (4, 2): 0.4576271186440678, (1, 0): 0.30434782608695654, (4, 1): 0.3220338983050847, (0, 2): 0.14814814814814814, (4, 0): 0.288135593220339})\n"
     ]
    }
   ],
   "source": [
    "print(confidence)"
   ]
  },
  {
   "cell_type": "code",
   "execution_count": 14,
   "metadata": {},
   "outputs": [
    {
     "name": "stdout",
     "output_type": "stream",
     "text": [
      "Rule: if a person buys bread, they will also buy milk\n",
      "- Confidence: 0.519\n",
      "- Support: 14\n",
      "\n",
      "Rule: if a person buys milk, they will also buy cheese\n",
      "- Confidence: 0.152\n",
      "- Support: 7\n",
      "\n",
      "Rule: if a person buys apples, they will also buy cheese\n",
      "- Confidence: 0.694\n",
      "- Support: 25\n",
      "\n",
      "Rule: if a person buys milk, they will also buy apples\n",
      "- Confidence: 0.196\n",
      "- Support: 9\n",
      "\n",
      "Rule: if a person buys bread, they will also buy apples\n",
      "- Confidence: 0.185\n",
      "- Support: 5\n",
      "\n",
      "Rule: if a person buys apples, they will also buy bread\n",
      "- Confidence: 0.139\n",
      "- Support: 5\n",
      "\n",
      "Rule: if a person buys apples, they will also buy bananas\n",
      "- Confidence: 0.583\n",
      "- Support: 21\n",
      "\n",
      "Rule: if a person buys apples, they will also buy milk\n",
      "- Confidence: 0.250\n",
      "- Support: 9\n",
      "\n",
      "Rule: if a person buys milk, they will also buy bananas\n",
      "- Confidence: 0.413\n",
      "- Support: 19\n",
      "\n",
      "Rule: if a person buys cheese, they will also buy bananas\n",
      "- Confidence: 0.659\n",
      "- Support: 27\n",
      "\n",
      "Rule: if a person buys cheese, they will also buy bread\n",
      "- Confidence: 0.098\n",
      "- Support: 4\n",
      "\n",
      "Rule: if a person buys cheese, they will also buy apples\n",
      "- Confidence: 0.610\n",
      "- Support: 25\n",
      "\n",
      "Rule: if a person buys cheese, they will also buy milk\n",
      "- Confidence: 0.171\n",
      "- Support: 7\n",
      "\n",
      "Rule: if a person buys bananas, they will also buy apples\n",
      "- Confidence: 0.356\n",
      "- Support: 21\n",
      "\n",
      "Rule: if a person buys bread, they will also buy bananas\n",
      "- Confidence: 0.630\n",
      "- Support: 17\n",
      "\n",
      "Rule: if a person buys bananas, they will also buy cheese\n",
      "- Confidence: 0.458\n",
      "- Support: 27\n",
      "\n",
      "Rule: if a person buys milk, they will also buy bread\n",
      "- Confidence: 0.304\n",
      "- Support: 14\n",
      "\n",
      "Rule: if a person buys bananas, they will also buy milk\n",
      "- Confidence: 0.322\n",
      "- Support: 19\n",
      "\n",
      "Rule: if a person buys bread, they will also buy cheese\n",
      "- Confidence: 0.148\n",
      "- Support: 4\n",
      "\n",
      "Rule: if a person buys bananas, they will also buy bread\n",
      "- Confidence: 0.288\n",
      "- Support: 17\n",
      "\n"
     ]
    }
   ],
   "source": [
    "for premise, conclusion in confidence:\n",
    "    premise_name = features[premise]\n",
    "    conclusion_name = features[conclusion]\n",
    "    print(\"Rule: if a person buys {0}, they will also buy {1}\".format(premise_name, conclusion_name))\n",
    "    print(\"- Confidence: {0:.3f}\".format(confidence[(premise, conclusion)]))\n",
    "    print(\"- Support: {0}\".format(support[(premise, conclusion)]))\n",
    "    print(\"\")"
   ]
  },
  {
   "cell_type": "code",
   "execution_count": 15,
   "metadata": {},
   "outputs": [],
   "source": [
    "def print_rule(premise, conclusion, support, confidence, features):\n",
    "    premise_name = features[premise]\n",
    "    conclusion_name = features[conclusion]\n",
    "    print(\"Rule: If a person buys {0} they will also buy {1}\".format(premise_name, conclusion_name))\n",
    "    print(\"- Confidence: {0:.3f}\".format(confidence[(premise, conclusion)]))\n",
    "    print(\"- Support : {0}\".format(support[(premise, conclusion)]))\n",
    "    print(\"\")"
   ]
  },
  {
   "cell_type": "code",
   "execution_count": 16,
   "metadata": {},
   "outputs": [
    {
     "name": "stdout",
     "output_type": "stream",
     "text": [
      "Rule: If a person buys milk they will also buy apples\n",
      "- Confidence: 0.196\n",
      "- Support : 9\n",
      "\n"
     ]
    }
   ],
   "source": [
    "premise = 1\n",
    "conclusion = 3\n",
    "print_rule(premise, conclusion, support, confidence, features)"
   ]
  },
  {
   "cell_type": "code",
   "execution_count": 17,
   "metadata": {},
   "outputs": [
    {
     "name": "stdout",
     "output_type": "stream",
     "text": [
      "[((0, 1), 14),\n",
      " ((1, 2), 7),\n",
      " ((3, 2), 25),\n",
      " ((1, 3), 9),\n",
      " ((3, 0), 5),\n",
      " ((4, 1), 19),\n",
      " ((3, 1), 9),\n",
      " ((1, 4), 19),\n",
      " ((0, 2), 4),\n",
      " ((2, 0), 4),\n",
      " ((2, 3), 25),\n",
      " ((2, 1), 7),\n",
      " ((4, 3), 21),\n",
      " ((0, 4), 17),\n",
      " ((1, 0), 14),\n",
      " ((4, 2), 27),\n",
      " ((0, 3), 5),\n",
      " ((3, 4), 21),\n",
      " ((2, 4), 27),\n",
      " ((4, 0), 17)]\n"
     ]
    }
   ],
   "source": [
    "# Sort by support\n",
    "from pprint import pprint\n",
    "pprint(list(support.items()))"
   ]
  },
  {
   "cell_type": "code",
   "execution_count": 18,
   "metadata": {},
   "outputs": [],
   "source": [
    "from operator import itemgetter\n",
    "sorted_support = sorted(support.items(), key=itemgetter(1), reverse=True)"
   ]
  },
  {
   "cell_type": "code",
   "execution_count": 19,
   "metadata": {},
   "outputs": [
    {
     "name": "stdout",
     "output_type": "stream",
     "text": [
      "Rule : #1\n",
      "Rule: If a person buys bananas they will also buy cheese\n",
      "- Confidence: 0.458\n",
      "- Support : 27\n",
      "\n",
      "Rule : #2\n",
      "Rule: If a person buys cheese they will also buy bananas\n",
      "- Confidence: 0.659\n",
      "- Support : 27\n",
      "\n",
      "Rule : #3\n",
      "Rule: If a person buys apples they will also buy cheese\n",
      "- Confidence: 0.694\n",
      "- Support : 25\n",
      "\n",
      "Rule : #4\n",
      "Rule: If a person buys cheese they will also buy apples\n",
      "- Confidence: 0.610\n",
      "- Support : 25\n",
      "\n",
      "Rule : #5\n",
      "Rule: If a person buys bananas they will also buy apples\n",
      "- Confidence: 0.356\n",
      "- Support : 21\n",
      "\n"
     ]
    }
   ],
   "source": [
    "for index in range(5):\n",
    "    print(\"Rule : #{0}\".format(index + 1))\n",
    "    (premise, conclusion) = sorted_support[index][0]\n",
    "    print_rule(premise, conclusion, support, confidence, features)"
   ]
  },
  {
   "cell_type": "code",
   "execution_count": 20,
   "metadata": {},
   "outputs": [],
   "source": [
    "sorted_confidence = sorted(confidence.items(), key=itemgetter(1),reverse=True)"
   ]
  },
  {
   "cell_type": "code",
   "execution_count": 22,
   "metadata": {},
   "outputs": [
    {
     "name": "stdout",
     "output_type": "stream",
     "text": [
      "[((3, 2), 0.6944444444444444), ((2, 4), 0.6585365853658537), ((0, 4), 0.6296296296296297), ((2, 3), 0.6097560975609756), ((3, 4), 0.5833333333333334), ((0, 1), 0.5185185185185185), ((4, 2), 0.4576271186440678), ((1, 4), 0.41304347826086957), ((4, 3), 0.3559322033898305), ((4, 1), 0.3220338983050847), ((1, 0), 0.30434782608695654), ((4, 0), 0.288135593220339), ((3, 1), 0.25), ((1, 3), 0.1956521739130435), ((0, 3), 0.18518518518518517), ((2, 1), 0.17073170731707318), ((1, 2), 0.15217391304347827), ((0, 2), 0.14814814814814814), ((3, 0), 0.1388888888888889), ((2, 0), 0.0975609756097561)]\n"
     ]
    }
   ],
   "source": [
    "print(sorted_confidence)"
   ]
  },
  {
   "cell_type": "code",
   "execution_count": 21,
   "metadata": {},
   "outputs": [
    {
     "name": "stdout",
     "output_type": "stream",
     "text": [
      "Rule #1\n",
      "Rule: If a person buys apples they will also buy cheese\n",
      "- Confidence: 0.694\n",
      "- Support : 25\n",
      "\n",
      "Rule #2\n",
      "Rule: If a person buys cheese they will also buy bananas\n",
      "- Confidence: 0.659\n",
      "- Support : 27\n",
      "\n",
      "Rule #3\n",
      "Rule: If a person buys bread they will also buy bananas\n",
      "- Confidence: 0.630\n",
      "- Support : 17\n",
      "\n",
      "Rule #4\n",
      "Rule: If a person buys cheese they will also buy apples\n",
      "- Confidence: 0.610\n",
      "- Support : 25\n",
      "\n",
      "Rule #5\n",
      "Rule: If a person buys apples they will also buy bananas\n",
      "- Confidence: 0.583\n",
      "- Support : 21\n",
      "\n"
     ]
    }
   ],
   "source": [
    "for index in range(5):\n",
    "    print(\"Rule #{0}\".format(index+1))\n",
    "    (premise, conclusion) = sorted_confidence[index][0]\n",
    "    print_rule(premise, conclusion, support, confidence, features)"
   ]
  }
 ],
 "metadata": {
  "kernelspec": {
   "display_name": "Python 2",
   "language": "python",
   "name": "python2"
  },
  "language_info": {
   "codemirror_mode": {
    "name": "ipython",
    "version": 2
   },
   "file_extension": ".py",
   "mimetype": "text/x-python",
   "name": "python",
   "nbconvert_exporter": "python",
   "pygments_lexer": "ipython2",
   "version": "2.7.12"
  }
 },
 "nbformat": 4,
 "nbformat_minor": 2
}
